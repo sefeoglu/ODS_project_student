{
 "cells": [
  {
   "cell_type": "code",
   "execution_count": null,
   "id": "outstanding-orlando",
   "metadata": {},
   "outputs": [],
   "source": [
    "#conference dataset\n"
   ]
  },
  {
   "cell_type": "code",
   "execution_count": 6,
   "id": "reduced-northeast",
   "metadata": {},
   "outputs": [],
   "source": [
    "#libraries\n",
    "import pandas as pd\n",
    "import os\n",
    "from scipy import stats"
   ]
  },
  {
   "cell_type": "code",
   "execution_count": 7,
   "id": "arranged-roads",
   "metadata": {},
   "outputs": [],
   "source": [
    "def run_t_test(sample_1, sample_2, prompt_1, prompt_2):\n",
    "   \n",
    "\n",
    "    t_value,p_value=stats.ttest_ind(sample_1, sample_2)\n",
    "\n",
    "    print('Test statistic is %f'%float(\"{:.6f}\".format(t_value)))\n",
    "\n",
    "    print('p-value for two tailed test is %f'%p_value)\n",
    "\n",
    "    alpha = 0.1\n",
    "\n",
    "    if p_value<=alpha:\n",
    "\n",
    "        print('Conclusion','n','Since p-value(=%f)'%p_value,'<','alpha(=%.2f)'%alpha,'''We reject the null hypothesis H0. So we conclude that the \n",
    "\n",
    "    effect of '''+prompt_1+''' and '''+prompt_2+'''  are not equal i.e., μ1 = μ2 at %.2f level of significance.'''%alpha)\n",
    "    else:\n",
    "        print('Conclusion','n','Since p-value(=%f)'%p_value,'>','alpha(=%.2f)'%alpha,'We do not reject the null hypothesis H0.')\n",
    "    return p_value\n"
   ]
  },
  {
   "cell_type": "code",
   "execution_count": 8,
   "id": "thermal-estonia",
   "metadata": {},
   "outputs": [],
   "source": [
    "#paths\n",
    "# experiments = {\"no_verb_rw_1\": \"/Users/sefika/OntoMatch/results/MELT_Results/conference/NoVerbalizationTriplesInNiceFormat/rw;khop1;NoVerbalizationNiceFormat/testCasePerformanceCube.csv\",\n",
    "#               \"no_verb_rw_2\": \"/Users/sefika/OntoMatch/results/MELT_Results/conference/NoVerbalizationTriplesInNiceFormat/rw;khop2;NoVerbalizationNiceFormat/testCasePerformanceCube.csv\",\n",
    "#               \"no_verb_rt_1\": \"/Users/sefika/OntoMatch/results/MELT_Results/conference/NoVerbalizationTriplesInNiceFormat/rt;khop1;NoVerbalizationNiceFormat/testCasePerformanceCube.csv\",\n",
    "#               \"no_verb_rt_2\": \"/Users/sefika/OntoMatch/results/MELT_Results/conference/NoVerbalizationTriplesInNiceFormat/rt;khop2;NoVerbalizationNiceFormat/testCasePerformanceCube.csv\"\n",
    "#               }\n",
    "\n"
   ]
  },
  {
   "cell_type": "code",
   "execution_count": 9,
   "id": "narrow-governor",
   "metadata": {},
   "outputs": [],
   "source": [
    "experiments = {\"rw_1\": \"/Users/sefika/OntoMatch/results/MELT_Results/conference/WithVerbalization/rw;khop1/testCasePerformanceCube.csv\",\n",
    "              \"rw_2\": \"/Users/sefika/OntoMatch/results/MELT_Results/conference/WithVerbalization/rw;khop2/testCasePerformanceCube.csv\",\n",
    "              \"rt_1\": \"/Users/sefika/OntoMatch/results/MELT_Results/conference/WithVerbalization/rt;khop1/testCasePerformanceCube.csv\",\n",
    "              \"rt_2\": \"/Users/sefika/OntoMatch/results/MELT_Results/conference/WithVerbalization/rt;khop2/testCasePerformanceCube.csv\"\n",
    "              }\n"
   ]
  },
  {
   "cell_type": "code",
   "execution_count": 18,
   "id": "tender-chester",
   "metadata": {},
   "outputs": [],
   "source": [
    "no_verb_rw_1_df = pd.read_csv(experiments[\"rw_2\"])\n",
    "no_verb_rw_2_df = pd.read_csv(experiments[\"rw_2\"])\n",
    "no_verb_rt_1_df = pd.read_csv(experiments[\"rt_2\"])\n",
    "no_verb_rt_2_df = pd.read_csv(experiments[\"rt_2\"])"
   ]
  },
  {
   "cell_type": "code",
   "execution_count": 11,
   "id": "international-intervention",
   "metadata": {},
   "outputs": [],
   "source": [
    "matchers = [\"/home/juliansampels/melt/examples/externalPythonMatcherSeals rw0/target/external-python-matcher-seals-1.0-seals.zip\",\n",
    "            \"/home/juliansampels/melt/examples/externalPythonMatcherSeals rw1/target/external-python-matcher-seals-1.0-seals.zip\",\n",
    "            \"/home/juliansampels/melt/examples/externalPythonMatcherSeals rw2/target/external-python-matcher-seals-1.0-seals.zip\",\n",
    "            \"/home/juliansampels/melt/examples/externalPythonMatcherSeals rw3/target/external-python-matcher-seals-1.0-seals.zip\",\n",
    "       \n",
    "           ]"
   ]
  },
  {
   "cell_type": "code",
   "execution_count": 12,
   "id": "ranging-greek",
   "metadata": {},
   "outputs": [],
   "source": [
    "selected_columns = [\"Track\", \"Test Case\", \"Type\", \"Matcher\", \"F1\", \"Recall (R)\"]"
   ]
  },
  {
   "cell_type": "code",
   "execution_count": 13,
   "id": "administrative-poker",
   "metadata": {},
   "outputs": [],
   "source": [
    "no_verb_rw_1_df = no_verb_rw_1_df[selected_columns]\n",
    "no_verb_rw_1_df = no_verb_rw_1_df[no_verb_rw_1_df.Type == \"CLASSES\"]\n",
    "no_verb_rw_1_df_rw_0 = no_verb_rw_1_df[no_verb_rw_1_df.Matcher == matchers[0]]\n",
    "no_verb_rw_1_df_rw_0_f1 = no_verb_rw_1_df_rw_0[\"F1\"]\n",
    "one_rw = no_verb_rw_1_df[no_verb_rw_1_df.Matcher == matchers[0]].F1\n",
    "two_rw = no_verb_rw_1_df[no_verb_rw_1_df.Matcher == matchers[1]].F1\n",
    "three_rw = no_verb_rw_1_df[no_verb_rw_1_df.Matcher == matchers[2]].F1\n",
    "four_rw = no_verb_rw_1_df[no_verb_rw_1_df.Matcher == matchers[3]].F1"
   ]
  },
  {
   "cell_type": "code",
   "execution_count": 14,
   "id": "crucial-stage",
   "metadata": {},
   "outputs": [],
   "source": [
    "no_verb_rt_1_df = no_verb_rt_1_df[selected_columns]\n",
    "no_verb_rt_1_df = no_verb_rt_1_df[no_verb_rt_1_df.Type == \"CLASSES\"]\n",
    "no_verb_rt_1_df_rt_0 = no_verb_rt_1_df[no_verb_rt_1_df.Matcher == matchers[0]]\n",
    "no_verb_rt_1_df_rt_0_f1 = no_verb_rt_1_df_rt_0[\"F1\"]\n",
    "one = no_verb_rt_1_df[no_verb_rt_1_df.Matcher == matchers[0]].F1\n",
    "two = no_verb_rt_1_df[no_verb_rt_1_df.Matcher == matchers[1]].F1\n",
    "three = no_verb_rt_1_df[no_verb_rt_1_df.Matcher == matchers[2]].F1\n",
    "four = no_verb_rt_1_df[no_verb_rt_1_df.Matcher == matchers[3]].F1"
   ]
  },
  {
   "cell_type": "code",
   "execution_count": 31,
   "id": "equipped-bruce",
   "metadata": {},
   "outputs": [
    {
     "name": "stdout",
     "output_type": "stream",
     "text": [
      "Test statistic is 0.483377\n",
      "p-value for two tailed test is 0.631464\n",
      "Conclusion n Since p-value(=0.631464) > alpha(=0.10) We do not reject the null hypothesis H0.\n",
      "Prompts Random Tree for NeighbourRange 1\n",
      "==========\n",
      "Test statistic is 3.164293\n",
      "p-value for two tailed test is 0.002968\n",
      "Conclusion n Since p-value(=0.002968) < alpha(=0.10) We reject the null hypothesis H0. So we conclude that the \n",
      "\n",
      "    effect of Prompt 1 and Prompt 4  are not equal i.e., μ1 = μ2 at 0.10 level of significance.\n",
      "==========\n",
      "Test statistic is 2.618120\n",
      "p-value for two tailed test is 0.012425\n",
      "Conclusion n Since p-value(=0.012425) < alpha(=0.10) We reject the null hypothesis H0. So we conclude that the \n",
      "\n",
      "    effect of Prompt 2 and Prompt 4  are not equal i.e., μ1 = μ2 at 0.10 level of significance.\n",
      "==========\n",
      "Test statistic is 2.788180\n",
      "p-value for two tailed test is 0.008073\n",
      "Conclusion n Since p-value(=0.008073) < alpha(=0.10) We reject the null hypothesis H0. So we conclude that the \n",
      "\n",
      "    effect of Prompt 3 and Prompt 4  are not equal i.e., μ1 = μ2 at 0.10 level of significance.\n"
     ]
    },
    {
     "data": {
      "text/plain": [
       "0.008073426756911388"
      ]
     },
     "execution_count": 31,
     "metadata": {},
     "output_type": "execute_result"
    }
   ],
   "source": [
    "run_t_test(no_verb_rt_1_df_rt_0_f1, no_verb_rw_1_df_rw_0_f1, \"Random Tree\", \"Random Walk\" )\n",
    "print(\"Prompts Random Tree for NeighbourRange 1\")\n",
    "print(\"==========\")\n",
    "run_t_test(one, four, \"Prompt 1\", \"Prompt 4\")\n",
    "print(\"==========\")\n",
    "run_t_test(two, four, \"Prompt 2\", \"Prompt 4\")\n",
    "print(\"==========\")\n",
    "run_t_test(three, four, \"Prompt 3\", \"Prompt 4\")"
   ]
  },
  {
   "cell_type": "code",
   "execution_count": 16,
   "id": "published-polyester",
   "metadata": {},
   "outputs": [],
   "source": [
    "no_verb_rw_2_df = no_verb_rw_2_df[selected_columns]\n",
    "no_verb_rw_2_df = no_verb_rw_2_df[no_verb_rw_2_df.Type == \"CLASSES\"]\n",
    "no_verb_rw_2_df_rw_0 = no_verb_rw_2_df[no_verb_rw_2_df.Matcher == matchers[0]]\n",
    "no_verb_rw_2_df_rw_0_f1 = no_verb_rw_2_df_rw_0[\"F1\"]\n",
    "one_rw = no_verb_rw_2_df[no_verb_rw_2_df.Matcher == matchers[0]].F1\n",
    "two_rw = no_verb_rw_2_df[no_verb_rw_2_df.Matcher == matchers[1]].F1\n",
    "three_rw = no_verb_rw_2_df[no_verb_rw_2_df.Matcher == matchers[2]].F1\n",
    "four_rw = no_verb_rw_2_df[no_verb_rw_2_df.Matcher == matchers[3]].F1"
   ]
  },
  {
   "cell_type": "code",
   "execution_count": 19,
   "id": "polar-vampire",
   "metadata": {},
   "outputs": [],
   "source": [
    "no_verb_rt_2_df = no_verb_rt_2_df[selected_columns]\n",
    "no_verb_rt_2_df = no_verb_rt_2_df[no_verb_rt_1_df.Type == \"CLASSES\"]\n",
    "no_verb_rt_2_df_rt_0 = no_verb_rt_2_df[no_verb_rt_2_df.Matcher == matchers[0]]\n",
    "no_verb_rt_2_df_rt_0_f1 = no_verb_rt_2_df_rt_0[\"F1\"]\n",
    "one = no_verb_rt_2_df[no_verb_rt_2_df.Matcher == matchers[0]].F1\n",
    "two = no_verb_rt_2_df[no_verb_rt_2_df.Matcher == matchers[1]].F1\n",
    "three = no_verb_rt_2_df[no_verb_rt_2_df.Matcher == matchers[2]].F1\n",
    "four = no_verb_rt_2_df[no_verb_rt_2_df.Matcher == matchers[3]].F1"
   ]
  },
  {
   "cell_type": "code",
   "execution_count": 30,
   "id": "several-elizabeth",
   "metadata": {},
   "outputs": [
    {
     "name": "stdout",
     "output_type": "stream",
     "text": [
      "Test statistic is 0.483377\n",
      "p-value for two tailed test is 0.631464\n",
      "Conclusion n Since p-value(=0.631464) > alpha(=0.10) We do not reject the null hypothesis H0.\n",
      "Prompts Random Tree for NeighbourRange 2\n",
      "==========\n",
      "Test statistic is 3.164293\n",
      "p-value for two tailed test is 0.002968\n",
      "Conclusion n Since p-value(=0.002968) < alpha(=0.10) We reject the null hypothesis H0. So we conclude that the \n",
      "\n",
      "    effect of Prompt 1 and Prompt 4  are not equal i.e., μ1 = μ2 at 0.10 level of significance.\n",
      "==========\n",
      "Test statistic is 2.618120\n",
      "p-value for two tailed test is 0.012425\n",
      "Conclusion n Since p-value(=0.012425) < alpha(=0.10) We reject the null hypothesis H0. So we conclude that the \n",
      "\n",
      "    effect of Prompt 2 and Prompt 4  are not equal i.e., μ1 = μ2 at 0.10 level of significance.\n",
      "==========\n",
      "Test statistic is 2.788180\n",
      "p-value for two tailed test is 0.008073\n",
      "Conclusion n Since p-value(=0.008073) < alpha(=0.10) We reject the null hypothesis H0. So we conclude that the \n",
      "\n",
      "    effect of Prompt 3 and Prompt 4  are not equal i.e., μ1 = μ2 at 0.10 level of significance.\n"
     ]
    },
    {
     "data": {
      "text/plain": [
       "0.008073426756911388"
      ]
     },
     "execution_count": 30,
     "metadata": {},
     "output_type": "execute_result"
    }
   ],
   "source": [
    "run_t_test(no_verb_rt_2_df_rt_0_f1, no_verb_rw_2_df_rw_0_f1, \"Random Tree\", \"Random Walk\" )\n",
    "print(\"Prompts Random Tree for NeighbourRange 2\")\n",
    "print(\"==========\")\n",
    "run_t_test(one, four, \"Prompt 1\", \"Prompt 4\")\n",
    "print(\"==========\")\n",
    "run_t_test(two, four, \"Prompt 2\", \"Prompt 4\")\n",
    "print(\"==========\")\n",
    "run_t_test(three, four, \"Prompt 3\", \"Prompt 4\")"
   ]
  },
  {
   "cell_type": "code",
   "execution_count": null,
   "id": "moved-wellington",
   "metadata": {},
   "outputs": [],
   "source": []
  },
  {
   "cell_type": "code",
   "execution_count": null,
   "id": "dependent-safety",
   "metadata": {},
   "outputs": [],
   "source": []
  }
 ],
 "metadata": {
  "kernelspec": {
   "display_name": "Python 3",
   "language": "python",
   "name": "python3"
  },
  "language_info": {
   "codemirror_mode": {
    "name": "ipython",
    "version": 3
   },
   "file_extension": ".py",
   "mimetype": "text/x-python",
   "name": "python",
   "nbconvert_exporter": "python",
   "pygments_lexer": "ipython3",
   "version": "3.7.7"
  }
 },
 "nbformat": 4,
 "nbformat_minor": 5
}
